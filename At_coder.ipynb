{
  "nbformat": 4,
  "nbformat_minor": 0,
  "metadata": {
    "colab": {
      "provenance": [],
      "authorship_tag": "ABX9TyPSctxMZQMzwvNMTrfTSUhl",
      "include_colab_link": true
    },
    "kernelspec": {
      "name": "python3",
      "display_name": "Python 3"
    },
    "language_info": {
      "name": "python"
    }
  },
  "cells": [
    {
      "cell_type": "markdown",
      "metadata": {
        "id": "view-in-github",
        "colab_type": "text"
      },
      "source": [
        "<a href=\"https://colab.research.google.com/github/Kei-Kobayash/AtCoder/blob/main/At_coder.ipynb\" target=\"_parent\"><img src=\"https://colab.research.google.com/assets/colab-badge.svg\" alt=\"Open In Colab\"/></a>"
      ]
    },
    {
      "cell_type": "markdown",
      "source": [],
      "metadata": {
        "id": "llIsAxEpaHGV"
      }
    },
    {
      "cell_type": "markdown",
      "source": [
        "# To be saikyo (AtCoder Beginner Contest 313 - A)"
      ],
      "metadata": {
        "id": "ytP_UCHbV0t3"
      }
    },
    {
      "cell_type": "markdown",
      "source": [
        "[link text](https://atcoder.jp/contests/abc313)"
      ],
      "metadata": {
        "id": "AgaCJ2J7acDe"
      }
    },
    {
      "cell_type": "code",
      "execution_count": 8,
      "metadata": {
        "colab": {
          "base_uri": "https://localhost:8080/"
        },
        "id": "EPqLs0WsVuBW",
        "outputId": "3e689c7e-4bf8-44f1-ccde-d338714eb3e1"
      },
      "outputs": [
        {
          "output_type": "stream",
          "name": "stdout",
          "text": [
            "9\n",
            "20 20 20\n",
            "1\n"
          ]
        }
      ],
      "source": [
        "N = int(input())\n",
        "lis = list(map(int, input().split()))\n",
        "\n",
        "one = lis[0]\n",
        "\n",
        "rev_lis = sorted(lis, reverse = True)\n",
        "\n",
        "if one == rev_lis[0]:\n",
        "  if N == 1:\n",
        "    print(0)\n",
        "  else:\n",
        "    if one == rev_lis[1]:\n",
        "      print(1)\n",
        "    else:\n",
        "      print(0)\n",
        "else:\n",
        "  print(rev_lis[0] - one + 1)"
      ]
    },
    {
      "cell_type": "code",
      "source": [],
      "metadata": {
        "id": "1jpzN0qVWab_"
      },
      "execution_count": null,
      "outputs": []
    }
  ]
}